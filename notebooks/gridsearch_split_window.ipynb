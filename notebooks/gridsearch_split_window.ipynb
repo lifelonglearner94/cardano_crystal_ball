{
 "cells": [
  {
   "cell_type": "code",
   "execution_count": 2,
   "id": "4be944b2-dc39-4928-ab33-38240d151924",
   "metadata": {
    "tags": []
   },
   "outputs": [],
   "source": [
    "import pandas as pd\n",
    "import numpy as np\n",
    "from darts import TimeSeries\n",
    "from darts.models.forecasting.tft_model import TFTModel\n",
    "from darts.dataprocessing.transformers import Scaler\n",
    "from darts.metrics import smape, mae, mse\n",
    "from torchmetrics.regression import MeanAbsoluteError\n",
    "from darts.utils import missing_values\n",
    "from sklearn.preprocessing import MinMaxScaler\n",
    "from darts.utils.likelihood_models import QuantileRegression\n",
    "import torch.optim as optim\n",
    "from torch.optim.lr_scheduler import StepLR\n",
    "from darts.explainability.tft_explainer import TFTExplainer\n",
    "from pytorch_lightning.callbacks.early_stopping import EarlyStopping\n",
    "import torch"
   ]
  },
  {
   "cell_type": "code",
   "execution_count": 1,
   "id": "64a08fd6-c8b9-408f-9ebe-381c78e54b5f",
   "metadata": {
    "tags": []
   },
   "outputs": [],
   "source": [
    "import warnings\n",
    "warnings.filterwarnings('ignore')"
   ]
  },
  {
   "cell_type": "code",
   "execution_count": 6,
   "id": "9409d187-0004-4962-8d3a-220f26de78bb",
   "metadata": {
    "tags": []
   },
   "outputs": [],
   "source": [
    "df = pd.DataFrame(pd.read_csv('../raw_data/preprocessed_from_may_2022.csv')).set_index('Unnamed: 0')\n",
    "\n",
    "# Further processing for TFT model.\n",
    "df.index = pd.to_datetime(df.index)\n",
    "df.interpolate(method='linear', inplace=True)\n",
    "\n",
    "target = df['rate_scaled']\n",
    "past_cov = df.drop(columns=['rate', 'rate_scaled'])\n",
    "future_cov = pd.DataFrame(df.index.to_series().dt.dayofweek)\n",
    "\n",
    "future_scaler = MinMaxScaler()\n",
    "future_cov = pd.DataFrame(future_scaler.fit_transform(future_cov))\n",
    "future_cov.index = df.index\n",
    "\n",
    "# Defining train, test, val.\n",
    "test = 24\n",
    "train = int(0.8*len(df))\n",
    "val = len(df) - train -test\n",
    "\n",
    "# Splitting data between future and past for train, test and val.\n",
    "y_train = target[-train-val-test:- test]\n",
    "future_cov_train = future_cov[-train-val-test:]\n",
    "past_cov_train = past_cov[-train-val-test:-test]\n",
    "y_val = target[-test:]\n",
    "\n",
    "# Transforming the Panda series and dataframes into Darts TimeSeries\n",
    "y_train_series = TimeSeries.from_series(y_train)\n",
    "past_cov_train_series = TimeSeries.from_dataframe(past_cov_train)\n",
    "future_cov_train_series = TimeSeries.from_dataframe(future_cov_train)\n",
    "\n",
    "y_val_series = TimeSeries.from_series(y_val)\n",
    "# past_cov_val_series = TimeSeries.from_dataframe(past_cov_val)\n",
    "# future_cov_val_series = TimeSeries.from_dataframe(future_cov_val)\n",
    "\n",
    "# y_test_series = TimeSeries.from_series(y_test)"
   ]
  },
  {
   "cell_type": "code",
   "execution_count": 7,
   "id": "7d317d55-14ea-414c-beae-873e37997b10",
   "metadata": {
    "tags": []
   },
   "outputs": [],
   "source": [
    "# Input is 5 days (in hours), output is 24 hours.\n",
    "input_chunk_length = (5*24)\n",
    "output_chunk_length = 24\n",
    "\n",
    "my_stopper = EarlyStopping(\n",
    "            monitor=\"train_loss\",\n",
    "            patience=5,\n",
    "            min_delta=0.001,\n",
    "            mode='min',\n",
    "        )\n",
    "\n",
    "pl_trainer_kwargs={\"callbacks\": [my_stopper],\n",
    "                   \"accelerator\": \"cpu\"}\n",
    "\n",
    "lr_scheduler = optim.lr_scheduler.ReduceLROnPlateau\n",
    "\n",
    "# model = TFTModel(input_chunk_length =input_chunk_length,\n",
    "#        output_chunk_length = output_chunk_length,\n",
    "#         pl_trainer_kwargs=pl_trainer_kwargs,\n",
    "#        lstm_layers=2,\n",
    "#        num_attention_heads=4,\n",
    "#        dropout=0.3,\n",
    "#        batch_size=16,\n",
    "#        hidden_size=64,\n",
    "#        loss_fn=torch.nn.MSELoss(),\n",
    "#        n_epochs=1,\n",
    "#        likelihood=None,\n",
    "#        lr_scheduler_cls = lr_scheduler,\n",
    "#        random_state=42,\n",
    "#       )"
   ]
  },
  {
   "cell_type": "code",
   "execution_count": 8,
   "id": "88e57459-27f8-4d4c-9545-a1a1065c61d6",
   "metadata": {
    "tags": []
   },
   "outputs": [],
   "source": [
    "model = TFTModel(input_chunk_length =input_chunk_length ,\n",
    "               output_chunk_length = output_chunk_length,\n",
    "               pl_trainer_kwargs = pl_trainer_kwargs,\n",
    "               lstm_layers=2,\n",
    "               num_attention_heads=8,\n",
    "               dropout=0.2,\n",
    "               batch_size=16,\n",
    "               hidden_size=32,\n",
    "               torch_metrics=MeanAbsoluteError(),\n",
    "               lr_scheduler_cls = lr_scheduler,\n",
    "               n_epochs=50\n",
    "               )"
   ]
  },
  {
   "cell_type": "code",
   "execution_count": 9,
   "id": "821696cb-e6fd-4c2b-9dd7-b3a41d465149",
   "metadata": {
    "tags": []
   },
   "outputs": [],
   "source": [
    "hyperparameters = {\n",
    "'input_chunk_length': [input_chunk_length],\n",
    "'output_chunk_length': [output_chunk_length],\n",
    "'lstm_layers' : [1, 2],\n",
    "'n_epochs' : [50],\n",
    "'random_state': [0, 42],\n",
    "'hidden_size': [10, 20, 32],\n",
    "'num_attention_heads': [4, 8],\n",
    "'dropout' : [0.2, 0.3, 0.4],\n",
    "'batch_size': [16, 32]\n",
    "}"
   ]
  },
  {
   "cell_type": "code",
   "execution_count": 12,
   "id": "561d871b-23ac-47f6-a518-07bf0cf9ac9b",
   "metadata": {
    "tags": []
   },
   "outputs": [
    {
     "data": {
      "text/plain": [
       "(TFTModel(output_chunk_shift=0, hidden_size=32, lstm_layers=1, num_attention_heads=8, full_attention=False, feed_forward=GatedResidualNetwork, dropout=0.2, hidden_continuous_size=8, categorical_embedding_sizes=None, add_relative_index=False, loss_fn=None, likelihood=None, norm_type=LayerNorm, use_static_covariates=True, input_chunk_length=120, output_chunk_length=24, n_epochs=50, random_state=0, batch_size=16),\n",
       " {'input_chunk_length': 120,\n",
       "  'output_chunk_length': 24,\n",
       "  'lstm_layers': 1,\n",
       "  'n_epochs': 50,\n",
       "  'random_state': 0,\n",
       "  'hidden_size': 32,\n",
       "  'num_attention_heads': 8,\n",
       "  'dropout': 0.2,\n",
       "  'batch_size': 16},\n",
       " 3.4839319113023506)"
      ]
     },
     "execution_count": 12,
     "metadata": {},
     "output_type": "execute_result"
    }
   ],
   "source": [
    "best_model"
   ]
  },
  {
   "cell_type": "code",
   "execution_count": null,
   "id": "3ac055f1-c775-4c07-a01b-a95f980a7847",
   "metadata": {},
   "outputs": [],
   "source": []
  }
 ],
 "metadata": {
  "environment": {
   "kernel": "conda-root-py",
   "name": "workbench-notebooks.m119",
   "type": "gcloud",
   "uri": "us-docker.pkg.dev/deeplearning-platform-release/gcr.io/workbench-notebooks:m119"
  },
  "kernelspec": {
   "display_name": "Python 3 (ipykernel) (Local)",
   "language": "python",
   "name": "conda-root-py"
  },
  "language_info": {
   "codemirror_mode": {
    "name": "ipython",
    "version": 3
   },
   "file_extension": ".py",
   "mimetype": "text/x-python",
   "name": "python",
   "nbconvert_exporter": "python",
   "pygments_lexer": "ipython3",
   "version": "3.10.14"
  }
 },
 "nbformat": 4,
 "nbformat_minor": 5
}
